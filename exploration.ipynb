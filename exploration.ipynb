{
 "metadata": {
  "language_info": {
   "codemirror_mode": {
    "name": "ipython",
    "version": 3
   },
   "file_extension": ".py",
   "mimetype": "text/x-python",
   "name": "python",
   "nbconvert_exporter": "python",
   "pygments_lexer": "ipython3",
   "version": "3.8.5-final"
  },
  "orig_nbformat": 2,
  "kernelspec": {
   "name": "python3",
   "display_name": "Python 3"
  }
 },
 "nbformat": 4,
 "nbformat_minor": 2,
 "cells": [
  {
   "cell_type": "code",
   "execution_count": 48,
   "metadata": {},
   "outputs": [],
   "source": [
    "import plotly\n",
    "import numpy as np \n",
    "import pandas as pd\n",
    "import plotly.express as px\n",
    "from pathlib import Path\n",
    "import re\n",
    "from dataclasses import dataclass, fields\n",
    "from io import StringIO"
   ]
  },
  {
   "cell_type": "code",
   "execution_count": 2,
   "metadata": {},
   "outputs": [],
   "source": [
    "events_path = Path('truthparticle.txt')"
   ]
  },
  {
   "cell_type": "code",
   "execution_count": 3,
   "metadata": {},
   "outputs": [],
   "source": [
    "events_txt = events_path.open().read()"
   ]
  },
  {
   "cell_type": "code",
   "execution_count": 49,
   "metadata": {},
   "outputs": [],
   "source": [
    "event_pattern = r\"^TruthEvent(?:.*?\\n){4}^id.*?\\n(?P<ip>.*?)\\n.*?\\n(?P<truth_event>(?:[-0-9].*?\\n)+)(?P<pileup>(?s).+?)(?:(?:run)|\\Z)\"\n",
    "event_prog = re.compile(event_pattern, re.MULTILINE)"
   ]
  },
  {
   "cell_type": "code",
   "execution_count": 50,
   "metadata": {},
   "outputs": [],
   "source": [
    "pu_pattern = r\"^TruthPileupEventContainer i(?:.*?\\n){2}(?P<data>(?s).+?)(?:N|\\Z)\"\n",
    "pu_prog = re.compile(pu_pattern, re.MULTILINE)"
   ]
  },
  {
   "cell_type": "code",
   "execution_count": 51,
   "metadata": {},
   "outputs": [],
   "source": [
    "def findall(prog, txt):\n",
    "    results = []\n",
    "    i = 0\n",
    "    while True:\n",
    "        result = prog.search(txt[i:])\n",
    "        if not result:\n",
    "            break\n",
    "        results.append(result)\n",
    "        i += result.span(0)[1]\n",
    "    return results"
   ]
  },
  {
   "cell_type": "code",
   "execution_count": 52,
   "metadata": {},
   "outputs": [],
   "source": [
    "event_results = findall(event_prog, events_txt)\n",
    "event_pu_results = [findall(pu_prog, r.group('pileup')) for r in event_results]"
   ]
  },
  {
   "cell_type": "code",
   "execution_count": 31,
   "metadata": {},
   "outputs": [
    {
     "output_type": "execute_result",
     "data": {
      "text/plain": [
       "['id',\n",
       " 'barcode',\n",
       " 'x',\n",
       " 'y',\n",
       " 'z',\n",
       " 't',\n",
       " 'numIncomingParticles',\n",
       " 'numOutgoingParticles']"
      ]
     },
     "metadata": {},
     "execution_count": 31
    }
   ],
   "source": [
    "'id\tbarcode\tx\ty\tz\tt\tnumIncomingParticles\tnumOutgoingParticles'.split('\\t')"
   ]
  },
  {
   "cell_type": "code",
   "execution_count": 40,
   "metadata": {},
   "outputs": [],
   "source": [
    "@dataclass\n",
    "class Vertex():\n",
    "    id: int\n",
    "    barcode: int\n",
    "    x: float\n",
    "    y: float\n",
    "    z: float\n",
    "    t: float\n",
    "    numIncomingParticles: int\n",
    "    numOutgoingParticles: int\n",
    "\n",
    "    def __post_init__(self):\n",
    "        for field in fields(self):\n",
    "            value = getattr(self, field.name)\n",
    "            if not isinstance(value, field.type):\n",
    "                setattr(self, field.name, field.type(value))"
   ]
  },
  {
   "cell_type": "code",
   "execution_count": 41,
   "metadata": {},
   "outputs": [],
   "source": [
    "v = Vertex('1', '1', '1', '1', '1', '1', '1', '1')"
   ]
  },
  {
   "cell_type": "code",
   "execution_count": 88,
   "metadata": {},
   "outputs": [],
   "source": [
    "class Event():\n",
    "    particle_fields = ['iPart', 'barcode', 'status', 'pdgId', 'px', 'py', 'pz', 'isCharged', 'm', 'pt', 'eta', 'phi', 'rapidity', 'hasProdVtx', 'prodVtx_id', 'prodVtx_x', 'prodVtx_y', 'prodVtx_z', 'hasDecayVtx', 'decayVtx_id']\n",
    "\n",
    "    def __init__(self, event_result, event_pu_result):\n",
    "        self.ip = Vertex(*event_result.group('ip').split())\n",
    "        self.primary = pd.read_csv(StringIO(event_result.group('truth_event')), sep='\\t', names=self.particle_fields, index_col=False)\n",
    "        self.pileup = self.read_pileup(event_pu_result)\n",
    "\n",
    "    def read_pileup(self, event_pu_result):\n",
    "        pu_dfs = []\n",
    "        for pu_id, pu_result in enumerate(event_pu_result):\n",
    "            pu_df = pd.read_csv(StringIO(pu_result.group('data')), sep='\\t', names=self.particle_fields, index_col=False)\n",
    "            pu_df['pileup_id'] = pu_id\n",
    "            pu_dfs.append(pu_df)\n",
    "        pileup = pd.concat(pu_dfs, ignore_index=True)\n",
    "        return pileup"
   ]
  },
  {
   "cell_type": "code",
   "execution_count": 89,
   "metadata": {},
   "outputs": [],
   "source": [
    "ev = Event(event_results[0], event_pu_results[0])"
   ]
  },
  {
   "cell_type": "code",
   "execution_count": 90,
   "metadata": {},
   "outputs": [
    {
     "output_type": "execute_result",
     "data": {
      "text/plain": [
       "       iPart  barcode  status  pdgId          px         py          pz  \\\n",
       "0        913     1047       1   -321 -1431.49000 -1144.7700   91539.100   \n",
       "1        914     1048       1    211 -1065.15000 -1303.8700   62717.400   \n",
       "2        920     1054       1   -211  -756.05200   757.6860   -1114.170   \n",
       "3        921     1055       1    211   178.44400  -529.1880  659957.000   \n",
       "4        922     1056       1   -211    34.72340   -50.0730    2795.770   \n",
       "...      ...      ...     ...    ...         ...        ...         ...   \n",
       "12794    183      204       1    211  -177.91100  -113.5870 -163993.000   \n",
       "12795    184      205       1   -211    -6.41372    25.5844  -25406.500   \n",
       "12796    189      210       1    211   143.71800   121.4070    2447.160   \n",
       "12797    190      211       1   -211   112.36400    62.7669    8349.110   \n",
       "12798    305   200066       1    211  -258.70800  -158.2510     504.431   \n",
       "\n",
       "       isCharged          m      pt  ...       phi  rapidity  hasProdVtx  \\\n",
       "0              1   91558.80  493.68  ...  4.604100 -2.467030    4.569090   \n",
       "1              1   62740.10  139.57  ...  4.311010 -2.255770    4.307580   \n",
       "2              1    1551.31  139.57  ... -0.910014  2.355110   -0.903947   \n",
       "3              1  659957.00  139.57  ...  7.767890 -1.245570    7.739690   \n",
       "4              1    2799.91  139.57  ...  4.519330 -0.964477    3.603950   \n",
       "...          ...        ...     ...  ...       ...       ...         ...   \n",
       "12794          1  163993.00  139.57  ... -7.348500 -2.573380   -7.187350   \n",
       "12795          1   25406.90  139.57  ... -7.563450  1.816420   -5.880520   \n",
       "12796          1    2458.35  139.57  ...  3.260150  0.701441    3.041710   \n",
       "12797          1    8351.27  139.57  ...  4.865580  0.509424    4.476960   \n",
       "12798          1     604.90  139.57  ...  1.282060 -2.592610    1.200830   \n",
       "\n",
       "       prodVtx_id  prodVtx_x  prodVtx_y  prodVtx_z  hasDecayVtx  decayVtx_id  \\\n",
       "0               1          0   0.017039   0.010330     -18.4265            0   \n",
       "1               1          0   0.017039   0.010330     -18.4265            0   \n",
       "2               1          0   0.017039   0.010330     -18.4265            0   \n",
       "3               1          0   0.017039   0.010330     -18.4265            0   \n",
       "4               1          0   0.017039   0.010330     -18.4265            0   \n",
       "...           ...        ...        ...        ...          ...          ...   \n",
       "12794           1          0   0.002122  -0.005505     -29.5707            0   \n",
       "12795           1          0   0.002122  -0.005505     -29.5707            0   \n",
       "12796           1          0   0.002122  -0.005505     -29.5707            0   \n",
       "12797           1          0   0.002122  -0.005505     -29.5707            0   \n",
       "12798           1       1201 -42.660600  19.772900    2893.3700            0   \n",
       "\n",
       "       pileup_id  \n",
       "0              0  \n",
       "1              0  \n",
       "2              0  \n",
       "3              0  \n",
       "4              0  \n",
       "...          ...  \n",
       "12794        226  \n",
       "12795        226  \n",
       "12796        226  \n",
       "12797        226  \n",
       "12798        226  \n",
       "\n",
       "[12799 rows x 21 columns]"
      ],
      "text/html": "<div>\n<style scoped>\n    .dataframe tbody tr th:only-of-type {\n        vertical-align: middle;\n    }\n\n    .dataframe tbody tr th {\n        vertical-align: top;\n    }\n\n    .dataframe thead th {\n        text-align: right;\n    }\n</style>\n<table border=\"1\" class=\"dataframe\">\n  <thead>\n    <tr style=\"text-align: right;\">\n      <th></th>\n      <th>iPart</th>\n      <th>barcode</th>\n      <th>status</th>\n      <th>pdgId</th>\n      <th>px</th>\n      <th>py</th>\n      <th>pz</th>\n      <th>isCharged</th>\n      <th>m</th>\n      <th>pt</th>\n      <th>...</th>\n      <th>phi</th>\n      <th>rapidity</th>\n      <th>hasProdVtx</th>\n      <th>prodVtx_id</th>\n      <th>prodVtx_x</th>\n      <th>prodVtx_y</th>\n      <th>prodVtx_z</th>\n      <th>hasDecayVtx</th>\n      <th>decayVtx_id</th>\n      <th>pileup_id</th>\n    </tr>\n  </thead>\n  <tbody>\n    <tr>\n      <th>0</th>\n      <td>913</td>\n      <td>1047</td>\n      <td>1</td>\n      <td>-321</td>\n      <td>-1431.49000</td>\n      <td>-1144.7700</td>\n      <td>91539.100</td>\n      <td>1</td>\n      <td>91558.80</td>\n      <td>493.68</td>\n      <td>...</td>\n      <td>4.604100</td>\n      <td>-2.467030</td>\n      <td>4.569090</td>\n      <td>1</td>\n      <td>0</td>\n      <td>0.017039</td>\n      <td>0.010330</td>\n      <td>-18.4265</td>\n      <td>0</td>\n      <td>0</td>\n    </tr>\n    <tr>\n      <th>1</th>\n      <td>914</td>\n      <td>1048</td>\n      <td>1</td>\n      <td>211</td>\n      <td>-1065.15000</td>\n      <td>-1303.8700</td>\n      <td>62717.400</td>\n      <td>1</td>\n      <td>62740.10</td>\n      <td>139.57</td>\n      <td>...</td>\n      <td>4.311010</td>\n      <td>-2.255770</td>\n      <td>4.307580</td>\n      <td>1</td>\n      <td>0</td>\n      <td>0.017039</td>\n      <td>0.010330</td>\n      <td>-18.4265</td>\n      <td>0</td>\n      <td>0</td>\n    </tr>\n    <tr>\n      <th>2</th>\n      <td>920</td>\n      <td>1054</td>\n      <td>1</td>\n      <td>-211</td>\n      <td>-756.05200</td>\n      <td>757.6860</td>\n      <td>-1114.170</td>\n      <td>1</td>\n      <td>1551.31</td>\n      <td>139.57</td>\n      <td>...</td>\n      <td>-0.910014</td>\n      <td>2.355110</td>\n      <td>-0.903947</td>\n      <td>1</td>\n      <td>0</td>\n      <td>0.017039</td>\n      <td>0.010330</td>\n      <td>-18.4265</td>\n      <td>0</td>\n      <td>0</td>\n    </tr>\n    <tr>\n      <th>3</th>\n      <td>921</td>\n      <td>1055</td>\n      <td>1</td>\n      <td>211</td>\n      <td>178.44400</td>\n      <td>-529.1880</td>\n      <td>659957.000</td>\n      <td>1</td>\n      <td>659957.00</td>\n      <td>139.57</td>\n      <td>...</td>\n      <td>7.767890</td>\n      <td>-1.245570</td>\n      <td>7.739690</td>\n      <td>1</td>\n      <td>0</td>\n      <td>0.017039</td>\n      <td>0.010330</td>\n      <td>-18.4265</td>\n      <td>0</td>\n      <td>0</td>\n    </tr>\n    <tr>\n      <th>4</th>\n      <td>922</td>\n      <td>1056</td>\n      <td>1</td>\n      <td>-211</td>\n      <td>34.72340</td>\n      <td>-50.0730</td>\n      <td>2795.770</td>\n      <td>1</td>\n      <td>2799.91</td>\n      <td>139.57</td>\n      <td>...</td>\n      <td>4.519330</td>\n      <td>-0.964477</td>\n      <td>3.603950</td>\n      <td>1</td>\n      <td>0</td>\n      <td>0.017039</td>\n      <td>0.010330</td>\n      <td>-18.4265</td>\n      <td>0</td>\n      <td>0</td>\n    </tr>\n    <tr>\n      <th>...</th>\n      <td>...</td>\n      <td>...</td>\n      <td>...</td>\n      <td>...</td>\n      <td>...</td>\n      <td>...</td>\n      <td>...</td>\n      <td>...</td>\n      <td>...</td>\n      <td>...</td>\n      <td>...</td>\n      <td>...</td>\n      <td>...</td>\n      <td>...</td>\n      <td>...</td>\n      <td>...</td>\n      <td>...</td>\n      <td>...</td>\n      <td>...</td>\n      <td>...</td>\n      <td>...</td>\n    </tr>\n    <tr>\n      <th>12794</th>\n      <td>183</td>\n      <td>204</td>\n      <td>1</td>\n      <td>211</td>\n      <td>-177.91100</td>\n      <td>-113.5870</td>\n      <td>-163993.000</td>\n      <td>1</td>\n      <td>163993.00</td>\n      <td>139.57</td>\n      <td>...</td>\n      <td>-7.348500</td>\n      <td>-2.573380</td>\n      <td>-7.187350</td>\n      <td>1</td>\n      <td>0</td>\n      <td>0.002122</td>\n      <td>-0.005505</td>\n      <td>-29.5707</td>\n      <td>0</td>\n      <td>226</td>\n    </tr>\n    <tr>\n      <th>12795</th>\n      <td>184</td>\n      <td>205</td>\n      <td>1</td>\n      <td>-211</td>\n      <td>-6.41372</td>\n      <td>25.5844</td>\n      <td>-25406.500</td>\n      <td>1</td>\n      <td>25406.90</td>\n      <td>139.57</td>\n      <td>...</td>\n      <td>-7.563450</td>\n      <td>1.816420</td>\n      <td>-5.880520</td>\n      <td>1</td>\n      <td>0</td>\n      <td>0.002122</td>\n      <td>-0.005505</td>\n      <td>-29.5707</td>\n      <td>0</td>\n      <td>226</td>\n    </tr>\n    <tr>\n      <th>12796</th>\n      <td>189</td>\n      <td>210</td>\n      <td>1</td>\n      <td>211</td>\n      <td>143.71800</td>\n      <td>121.4070</td>\n      <td>2447.160</td>\n      <td>1</td>\n      <td>2458.35</td>\n      <td>139.57</td>\n      <td>...</td>\n      <td>3.260150</td>\n      <td>0.701441</td>\n      <td>3.041710</td>\n      <td>1</td>\n      <td>0</td>\n      <td>0.002122</td>\n      <td>-0.005505</td>\n      <td>-29.5707</td>\n      <td>0</td>\n      <td>226</td>\n    </tr>\n    <tr>\n      <th>12797</th>\n      <td>190</td>\n      <td>211</td>\n      <td>1</td>\n      <td>-211</td>\n      <td>112.36400</td>\n      <td>62.7669</td>\n      <td>8349.110</td>\n      <td>1</td>\n      <td>8351.27</td>\n      <td>139.57</td>\n      <td>...</td>\n      <td>4.865580</td>\n      <td>0.509424</td>\n      <td>4.476960</td>\n      <td>1</td>\n      <td>0</td>\n      <td>0.002122</td>\n      <td>-0.005505</td>\n      <td>-29.5707</td>\n      <td>0</td>\n      <td>226</td>\n    </tr>\n    <tr>\n      <th>12798</th>\n      <td>305</td>\n      <td>200066</td>\n      <td>1</td>\n      <td>211</td>\n      <td>-258.70800</td>\n      <td>-158.2510</td>\n      <td>504.431</td>\n      <td>1</td>\n      <td>604.90</td>\n      <td>139.57</td>\n      <td>...</td>\n      <td>1.282060</td>\n      <td>-2.592610</td>\n      <td>1.200830</td>\n      <td>1</td>\n      <td>1201</td>\n      <td>-42.660600</td>\n      <td>19.772900</td>\n      <td>2893.3700</td>\n      <td>0</td>\n      <td>226</td>\n    </tr>\n  </tbody>\n</table>\n<p>12799 rows × 21 columns</p>\n</div>"
     },
     "metadata": {},
     "execution_count": 90
    }
   ],
   "source": [
    "ev.pileup"
   ]
  },
  {
   "cell_type": "code",
   "execution_count": null,
   "metadata": {},
   "outputs": [],
   "source": [
    "event_pu_results[0][0]"
   ]
  },
  {
   "cell_type": "code",
   "execution_count": 84,
   "metadata": {},
   "outputs": [],
   "source": [
    "df = pd.DataFrame(columns=['iPart', 'barcode', 'status', 'pdgId', 'px', 'py', 'pz', 'isCharged', 'm', 'pt', 'eta', 'phi', 'rapidity', 'hasProdVtx', 'prodVtx_id', 'prodVtx_x', 'prodVtx_y', 'prodVtx_z', 'hasDecayVtx', 'decayVtx_id'])"
   ]
  },
  {
   "cell_type": "code",
   "execution_count": 8,
   "metadata": {},
   "outputs": [],
   "source": [
    "data_lists = [[] for _ in columns]\n",
    "for line in lines[8:-2]:\n",
    "    for i, element in enumerate(line.split()):\n",
    "        data_lists[i].append(element)"
   ]
  },
  {
   "cell_type": "code",
   "execution_count": 13,
   "metadata": {},
   "outputs": [],
   "source": [
    "data = {c: data_lists[i] for i, c in enumerate(columns)}"
   ]
  },
  {
   "cell_type": "code",
   "execution_count": 16,
   "metadata": {},
   "outputs": [
    {
     "output_type": "execute_result",
     "data": {
      "text/plain": [
       "[13899,\n",
       " 13899,\n",
       " 13899,\n",
       " 13671,\n",
       " 13671,\n",
       " 13671,\n",
       " 13671,\n",
       " 13671,\n",
       " 13217,\n",
       " 13217,\n",
       " 13217,\n",
       " 13217,\n",
       " 13217,\n",
       " 13217,\n",
       " 13217,\n",
       " 13217,\n",
       " 13217,\n",
       " 13217,\n",
       " 13217,\n",
       " 13217]"
      ]
     },
     "metadata": {},
     "execution_count": 16
    }
   ],
   "source": [
    "[len(d) for d in data_lists]"
   ]
  },
  {
   "cell_type": "code",
   "execution_count": 14,
   "metadata": {},
   "outputs": [
    {
     "output_type": "error",
     "ename": "ValueError",
     "evalue": "arrays must all be same length",
     "traceback": [
      "\u001b[1;31m---------------------------------------------------------------------------\u001b[0m",
      "\u001b[1;31mValueError\u001b[0m                                Traceback (most recent call last)",
      "\u001b[1;32m<ipython-input-14-039b238b38ef>\u001b[0m in \u001b[0;36m<module>\u001b[1;34m\u001b[0m\n\u001b[1;32m----> 1\u001b[1;33m \u001b[0mdf\u001b[0m \u001b[1;33m=\u001b[0m \u001b[0mpd\u001b[0m\u001b[1;33m.\u001b[0m\u001b[0mDataFrame\u001b[0m\u001b[1;33m(\u001b[0m\u001b[0mdata\u001b[0m\u001b[1;33m)\u001b[0m\u001b[1;33m\u001b[0m\u001b[1;33m\u001b[0m\u001b[0m\n\u001b[0m",
      "\u001b[1;32m~\\miniconda3\\envs\\vertex\\lib\\site-packages\\pandas\\core\\frame.py\u001b[0m in \u001b[0;36m__init__\u001b[1;34m(self, data, index, columns, dtype, copy)\u001b[0m\n\u001b[0;32m    466\u001b[0m \u001b[1;33m\u001b[0m\u001b[0m\n\u001b[0;32m    467\u001b[0m         \u001b[1;32melif\u001b[0m \u001b[0misinstance\u001b[0m\u001b[1;33m(\u001b[0m\u001b[0mdata\u001b[0m\u001b[1;33m,\u001b[0m \u001b[0mdict\u001b[0m\u001b[1;33m)\u001b[0m\u001b[1;33m:\u001b[0m\u001b[1;33m\u001b[0m\u001b[1;33m\u001b[0m\u001b[0m\n\u001b[1;32m--> 468\u001b[1;33m             \u001b[0mmgr\u001b[0m \u001b[1;33m=\u001b[0m \u001b[0minit_dict\u001b[0m\u001b[1;33m(\u001b[0m\u001b[0mdata\u001b[0m\u001b[1;33m,\u001b[0m \u001b[0mindex\u001b[0m\u001b[1;33m,\u001b[0m \u001b[0mcolumns\u001b[0m\u001b[1;33m,\u001b[0m \u001b[0mdtype\u001b[0m\u001b[1;33m=\u001b[0m\u001b[0mdtype\u001b[0m\u001b[1;33m)\u001b[0m\u001b[1;33m\u001b[0m\u001b[1;33m\u001b[0m\u001b[0m\n\u001b[0m\u001b[0;32m    469\u001b[0m         \u001b[1;32melif\u001b[0m \u001b[0misinstance\u001b[0m\u001b[1;33m(\u001b[0m\u001b[0mdata\u001b[0m\u001b[1;33m,\u001b[0m \u001b[0mma\u001b[0m\u001b[1;33m.\u001b[0m\u001b[0mMaskedArray\u001b[0m\u001b[1;33m)\u001b[0m\u001b[1;33m:\u001b[0m\u001b[1;33m\u001b[0m\u001b[1;33m\u001b[0m\u001b[0m\n\u001b[0;32m    470\u001b[0m             \u001b[1;32mimport\u001b[0m \u001b[0mnumpy\u001b[0m\u001b[1;33m.\u001b[0m\u001b[0mma\u001b[0m\u001b[1;33m.\u001b[0m\u001b[0mmrecords\u001b[0m \u001b[1;32mas\u001b[0m \u001b[0mmrecords\u001b[0m\u001b[1;33m\u001b[0m\u001b[1;33m\u001b[0m\u001b[0m\n",
      "\u001b[1;32m~\\miniconda3\\envs\\vertex\\lib\\site-packages\\pandas\\core\\internals\\construction.py\u001b[0m in \u001b[0;36minit_dict\u001b[1;34m(data, index, columns, dtype)\u001b[0m\n\u001b[0;32m    281\u001b[0m             \u001b[0marr\u001b[0m \u001b[1;32mif\u001b[0m \u001b[1;32mnot\u001b[0m \u001b[0mis_datetime64tz_dtype\u001b[0m\u001b[1;33m(\u001b[0m\u001b[0marr\u001b[0m\u001b[1;33m)\u001b[0m \u001b[1;32melse\u001b[0m \u001b[0marr\u001b[0m\u001b[1;33m.\u001b[0m\u001b[0mcopy\u001b[0m\u001b[1;33m(\u001b[0m\u001b[1;33m)\u001b[0m \u001b[1;32mfor\u001b[0m \u001b[0marr\u001b[0m \u001b[1;32min\u001b[0m \u001b[0marrays\u001b[0m\u001b[1;33m\u001b[0m\u001b[1;33m\u001b[0m\u001b[0m\n\u001b[0;32m    282\u001b[0m         ]\n\u001b[1;32m--> 283\u001b[1;33m     \u001b[1;32mreturn\u001b[0m \u001b[0marrays_to_mgr\u001b[0m\u001b[1;33m(\u001b[0m\u001b[0marrays\u001b[0m\u001b[1;33m,\u001b[0m \u001b[0mdata_names\u001b[0m\u001b[1;33m,\u001b[0m \u001b[0mindex\u001b[0m\u001b[1;33m,\u001b[0m \u001b[0mcolumns\u001b[0m\u001b[1;33m,\u001b[0m \u001b[0mdtype\u001b[0m\u001b[1;33m=\u001b[0m\u001b[0mdtype\u001b[0m\u001b[1;33m)\u001b[0m\u001b[1;33m\u001b[0m\u001b[1;33m\u001b[0m\u001b[0m\n\u001b[0m\u001b[0;32m    284\u001b[0m \u001b[1;33m\u001b[0m\u001b[0m\n\u001b[0;32m    285\u001b[0m \u001b[1;33m\u001b[0m\u001b[0m\n",
      "\u001b[1;32m~\\miniconda3\\envs\\vertex\\lib\\site-packages\\pandas\\core\\internals\\construction.py\u001b[0m in \u001b[0;36marrays_to_mgr\u001b[1;34m(arrays, arr_names, index, columns, dtype, verify_integrity)\u001b[0m\n\u001b[0;32m     76\u001b[0m         \u001b[1;31m# figure out the index, if necessary\u001b[0m\u001b[1;33m\u001b[0m\u001b[1;33m\u001b[0m\u001b[1;33m\u001b[0m\u001b[0m\n\u001b[0;32m     77\u001b[0m         \u001b[1;32mif\u001b[0m \u001b[0mindex\u001b[0m \u001b[1;32mis\u001b[0m \u001b[1;32mNone\u001b[0m\u001b[1;33m:\u001b[0m\u001b[1;33m\u001b[0m\u001b[1;33m\u001b[0m\u001b[0m\n\u001b[1;32m---> 78\u001b[1;33m             \u001b[0mindex\u001b[0m \u001b[1;33m=\u001b[0m \u001b[0mextract_index\u001b[0m\u001b[1;33m(\u001b[0m\u001b[0marrays\u001b[0m\u001b[1;33m)\u001b[0m\u001b[1;33m\u001b[0m\u001b[1;33m\u001b[0m\u001b[0m\n\u001b[0m\u001b[0;32m     79\u001b[0m         \u001b[1;32melse\u001b[0m\u001b[1;33m:\u001b[0m\u001b[1;33m\u001b[0m\u001b[1;33m\u001b[0m\u001b[0m\n\u001b[0;32m     80\u001b[0m             \u001b[0mindex\u001b[0m \u001b[1;33m=\u001b[0m \u001b[0mensure_index\u001b[0m\u001b[1;33m(\u001b[0m\u001b[0mindex\u001b[0m\u001b[1;33m)\u001b[0m\u001b[1;33m\u001b[0m\u001b[1;33m\u001b[0m\u001b[0m\n",
      "\u001b[1;32m~\\miniconda3\\envs\\vertex\\lib\\site-packages\\pandas\\core\\internals\\construction.py\u001b[0m in \u001b[0;36mextract_index\u001b[1;34m(data)\u001b[0m\n\u001b[0;32m    395\u001b[0m             \u001b[0mlengths\u001b[0m \u001b[1;33m=\u001b[0m \u001b[0mlist\u001b[0m\u001b[1;33m(\u001b[0m\u001b[0mset\u001b[0m\u001b[1;33m(\u001b[0m\u001b[0mraw_lengths\u001b[0m\u001b[1;33m)\u001b[0m\u001b[1;33m)\u001b[0m\u001b[1;33m\u001b[0m\u001b[1;33m\u001b[0m\u001b[0m\n\u001b[0;32m    396\u001b[0m             \u001b[1;32mif\u001b[0m \u001b[0mlen\u001b[0m\u001b[1;33m(\u001b[0m\u001b[0mlengths\u001b[0m\u001b[1;33m)\u001b[0m \u001b[1;33m>\u001b[0m \u001b[1;36m1\u001b[0m\u001b[1;33m:\u001b[0m\u001b[1;33m\u001b[0m\u001b[1;33m\u001b[0m\u001b[0m\n\u001b[1;32m--> 397\u001b[1;33m                 \u001b[1;32mraise\u001b[0m \u001b[0mValueError\u001b[0m\u001b[1;33m(\u001b[0m\u001b[1;34m\"arrays must all be same length\"\u001b[0m\u001b[1;33m)\u001b[0m\u001b[1;33m\u001b[0m\u001b[1;33m\u001b[0m\u001b[0m\n\u001b[0m\u001b[0;32m    398\u001b[0m \u001b[1;33m\u001b[0m\u001b[0m\n\u001b[0;32m    399\u001b[0m             \u001b[1;32mif\u001b[0m \u001b[0mhave_dicts\u001b[0m\u001b[1;33m:\u001b[0m\u001b[1;33m\u001b[0m\u001b[1;33m\u001b[0m\u001b[0m\n",
      "\u001b[1;31mValueError\u001b[0m: arrays must all be same length"
     ]
    }
   ],
   "source": [
    "df = pd.DataFrame(data)"
   ]
  },
  {
   "cell_type": "code",
   "execution_count": 83,
   "metadata": {},
   "outputs": [
    {
     "output_type": "execute_result",
     "data": {
      "text/plain": [
       "'305\\t200066\\t1\\t211\\t-258.708\\t-158.251\\t504.431\\t1\\t604.9\\t139.57\\t303.271\\t1.28206\\t-2.59261\\t1.20083\\t1\\t1201\\t-42.6606\\t19.7729\\t2893.37\\t0\\t'"
      ]
     },
     "metadata": {},
     "execution_count": 83
    }
   ],
   "source": [
    "lines[-2]"
   ]
  },
  {
   "cell_type": "code",
   "execution_count": null,
   "metadata": {},
   "outputs": [],
   "source": []
  }
 ]
}